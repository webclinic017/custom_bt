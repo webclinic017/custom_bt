{
 "cells": [
  {
   "cell_type": "code",
   "execution_count": 1,
   "metadata": {},
   "outputs": [],
   "source": [
    "# Basic utils\n",
    "import pandas as pd\n",
    "import numpy as np\n",
    "from cot import cot_add_lag\n",
    "\n",
    "# Data services\n",
    "from services import PriceDataService, COTDataService\n",
    "\n",
    "# Custom Backtrader\n",
    "import backtrader as bt\n",
    "from strategies import COT_Breakout\n",
    "from comm_factories import FuturesCommFactory\n",
    "from feeds.pandas import COT_PandasData, Price_PandasData"
   ]
  },
  {
   "cell_type": "code",
   "execution_count": 2,
   "metadata": {},
   "outputs": [],
   "source": [
    "# Simbolos das commodities a serem testadas\n",
    "symbols_list = [\n",
    "    'CC', 'KC', 'C', 'CT', 'W',\n",
    "    'SB', 'BO', 'S', 'SM'\n",
    "]\n",
    "\n",
    "# Dados do COT a serem analisados\n",
    "cot_raw_inputs = ['TotalOI', 'TotalT', \n",
    "                'MML_OI', 'MML_T',\n",
    "                'MMS_OI', 'MMS_T',\n",
    "                'PMPUL_OI','PMPUL_T',\n",
    "                'PMPUS_OI', 'PMPUS_T']\n",
    "\n",
    "price_raw_inputs = ['Close', 'Open', 'High', 'Low', 'OI', 'Volume']\n",
    "\n",
    "# Preparando o dataset do COT\n",
    "price_data = pd.DataFrame()\n",
    "cot_data = pd.DataFrame()\n",
    "for symbol in symbols_list:\n",
    "\n",
    "    #- Importing price data\n",
    "    price_df = PriceDataService.get_data_from_csv(symbol)\n",
    "    price_df = price_df[['Date'] + price_raw_inputs]\n",
    "\n",
    "    #- Importing CoT data\n",
    "    cot_df = COTDataService.get_data_from_csv(symbol)\n",
    "    cot_df = cot_df[['Date']+cot_raw_inputs]\n",
    "\n",
    "    oi_total = cot_df['TotalOI']\n",
    "    n_traders_total = cot_df['TotalT']\n",
    "    for cot_category in ['MML', 'MMS', 'PMPUL', 'PMPUS']:\n",
    "        oi = cot_df[f'{cot_category}_OI']\n",
    "        n_traders = cot_df[f'{cot_category}_T']\n",
    "\n",
    "        conc = np.where(cot_df[['TotalOI']].eq(0).all(1), 0, oi / oi_total)\n",
    "        clus = np.where(cot_df[['TotalT']].eq(0).all(1), 0, n_traders / n_traders_total)\n",
    "\n",
    "        cot_df[f'{cot_category}_Concentration'] = conc\n",
    "        cot_df[f'{cot_category}_Clustering'] = clus\n",
    "        cot_df[f'{cot_category}_PosSize'] = np.where(cot_df[[f'{cot_category}_T']].eq(0).all(1), 0, oi / n_traders)\n",
    "    cot_df['PMPU_Net_OI'] = cot_df['PMPUL_OI'] - cot_df['PMPUS_OI']\n",
    "    cot_df['PMPU_Net_T'] = cot_df['PMPUL_T'] - cot_df['PMPUS_T']\n",
    "    cot_df['PMPU_Net_PosSize'] = cot_df['PMPUL_PosSize'] - cot_df['PMPUS_PosSize']\n",
    "    cot_df.fillna(method='ffill', inplace=True)\n",
    "\n",
    "    cot_features = ['MML_Concentration', 'MML_Clustering', 'MML_PosSize',\n",
    "                    'MMS_Concentration', 'MMS_Clustering', 'MMS_PosSize',\n",
    "                    'PMPU_Net_OI', 'PMPU_Net_T', 'PMPU_Net_PosSize']\n",
    "    \n",
    "    cot_df = cot_df[['Date']+cot_features]\n",
    "    cot_df.drop(cot_df.tail(1).index, inplace=True)\n",
    "\n",
    "    # Adding report lag to CoT data\n",
    "    cot_df = cot_add_lag(cot_df=cot_df, price_dates=price_df['Date'].to_list())\n",
    "\n",
    "    # Concatenating COT and price data on date\n",
    "    first_cot_date = cot_df['Date'][0]\n",
    "    price_df = price_df.set_index('Date')[first_cot_date:]\n",
    "    price_df.reset_index(inplace=True)\n",
    "    price_df['symbol'] = symbol\n",
    "    cot_df['symbol'] = symbol\n",
    "\n",
    "    # Merging data for all instruments\n",
    "    price_data = pd.concat([price_data, price_df], ignore_index=True, sort=False)\n",
    "    cot_data = pd.concat([cot_data, cot_df], ignore_index=True, sort=False)\n",
    "\n",
    "price_data['Date'] = pd.to_datetime(price_data['Date'], format='%Y-%m-%d')\n",
    "cot_data['Date'] = pd.to_datetime(cot_data['Date'], format='%Y-%m-%d')"
   ]
  },
  {
   "cell_type": "code",
   "execution_count": 3,
   "metadata": {},
   "outputs": [
    {
     "name": "stdout",
     "output_type": "stream",
     "text": [
      "AuM inicial: 1500000.0\n",
      "AuM final: 1979622.0300000068\n"
     ]
    },
    {
     "ename": "AttributeError",
     "evalue": "'Lines_LineSeries_LineIterator_DataAccessor_Strateg' object has no attribute 'analysers'",
     "output_type": "error",
     "traceback": [
      "\u001b[1;31m---------------------------------------------------------------------------\u001b[0m",
      "\u001b[1;31mAttributeError\u001b[0m                            Traceback (most recent call last)",
      "Input \u001b[1;32mIn [3]\u001b[0m, in \u001b[0;36m<cell line: 27>\u001b[1;34m()\u001b[0m\n\u001b[0;32m     25\u001b[0m results \u001b[38;5;241m=\u001b[39m cerebro\u001b[38;5;241m.\u001b[39mrun()\n\u001b[0;32m     26\u001b[0m strat \u001b[38;5;241m=\u001b[39m results[\u001b[38;5;241m0\u001b[39m]\n\u001b[1;32m---> 27\u001b[0m \u001b[38;5;28;01mfor\u001b[39;00m analiser \u001b[38;5;129;01min\u001b[39;00m \u001b[43mstrat\u001b[49m\u001b[38;5;241;43m.\u001b[39;49m\u001b[43manalysers\u001b[49m:\n\u001b[0;32m     28\u001b[0m     analiser\u001b[38;5;241m.\u001b[39mget_analysis()\n",
      "File \u001b[1;32mC:\\conda\\lib\\site-packages\\backtrader\\lineseries.py:461\u001b[0m, in \u001b[0;36mLineSeries.__getattr__\u001b[1;34m(self, name)\u001b[0m\n\u001b[0;32m    457\u001b[0m \u001b[38;5;28;01mdef\u001b[39;00m \u001b[38;5;21m__getattr__\u001b[39m(\u001b[38;5;28mself\u001b[39m, name):\n\u001b[0;32m    458\u001b[0m     \u001b[38;5;66;03m# to refer to line by name directly if the attribute was not found\u001b[39;00m\n\u001b[0;32m    459\u001b[0m     \u001b[38;5;66;03m# in this object if we set an attribute in this object it will be\u001b[39;00m\n\u001b[0;32m    460\u001b[0m     \u001b[38;5;66;03m# found before we end up here\u001b[39;00m\n\u001b[1;32m--> 461\u001b[0m     \u001b[38;5;28;01mreturn\u001b[39;00m \u001b[38;5;28;43mgetattr\u001b[39;49m\u001b[43m(\u001b[49m\u001b[38;5;28;43mself\u001b[39;49m\u001b[38;5;241;43m.\u001b[39;49m\u001b[43mlines\u001b[49m\u001b[43m,\u001b[49m\u001b[43m \u001b[49m\u001b[43mname\u001b[49m\u001b[43m)\u001b[49m\n",
      "\u001b[1;31mAttributeError\u001b[0m: 'Lines_LineSeries_LineIterator_DataAccessor_Strateg' object has no attribute 'analysers'"
     ]
    }
   ],
   "source": [
    "# Instanciating cerebro\n",
    "cerebro = bt.Cerebro(runonce=True)\n",
    "\n",
    "# Setting fixed (percentage-based) SLIPPAGE (0.5%), CHEAT-ON-CLOSE and INITIAL CASH (1.5M USD)\n",
    "cerebro.broker = bt.brokers.BackBroker(slip_perc=0.005, coc=True)\n",
    "cerebro.broker.set_cash(1.5e6)\n",
    "\n",
    "# Adding strategy to cerebro and setting the initial cash\n",
    "cerebro.addstrategy(COT_Breakout, cot_component_name='mm_concentration', symbols=symbols_list)\n",
    "\n",
    "# Adding Price DataFeed\n",
    "comminfo_facory = FuturesCommFactory()\n",
    "for symbol, df in price_data.groupby(by='symbol'):\n",
    "    price_btdata = Price_PandasData(dataname=df.drop(labels=['symbol'], axis=1))\n",
    "    cerebro.adddata(data=price_btdata, name=f\"{symbol}\")\n",
    "    comminfo_bt = comminfo_facory.create_comminfo(instrument_symbol=symbol)\n",
    "    cerebro.broker.addcommissioninfo(comminfo=comminfo_bt, name=f'{symbol}_price')\n",
    "\n",
    "# Adding COT DataFeed\n",
    "for symbol, df in cot_data.groupby(by='symbol'):\n",
    "    cot_btdata = COT_PandasData(dataname=df.drop(labels=['symbol'], axis=1))\n",
    "    cerebro.adddata(data=cot_btdata, name=f\"{symbol}_cot\")\n",
    "\n",
    "cerebro.addanalyzer(bt.analyzers.TradeAnalyzer, _name='tanalyzer')\n",
    "results = cerebro.run()\n",
    "strat = results[0]\n",
    "tan = strat.analyzers.getbyname('tanalyzer')"
   ]
  }
 ],
 "metadata": {
  "kernelspec": {
   "display_name": "Python 3 (ipykernel)",
   "language": "python",
   "name": "python3"
  },
  "language_info": {
   "codemirror_mode": {
    "name": "ipython",
    "version": 3
   },
   "file_extension": ".py",
   "mimetype": "text/x-python",
   "name": "python",
   "nbconvert_exporter": "python",
   "pygments_lexer": "ipython3",
   "version": "3.9.12"
  },
  "vscode": {
   "interpreter": {
    "hash": "1a6e773fc7f7b2b8b91c25b211311bf7ed1bb15ad853df008c3aead80ddb88d4"
   }
  }
 },
 "nbformat": 4,
 "nbformat_minor": 2
}
